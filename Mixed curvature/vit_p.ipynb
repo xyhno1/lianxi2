{
 "cells": [
  {
   "cell_type": "code",
   "execution_count": 1,
   "id": "ff730751",
   "metadata": {},
   "outputs": [],
   "source": [
    "import torch\n",
    "import torch.nn as nn\n",
    "import torch.optim as optim\n",
    "import torchvision.transforms as T\n",
    "import torch.nn.functional as F\n",
    "from torch.utils.data import DataLoader\n",
    "import torch.backends.cudnn as cudnn\n",
    "from apex import amp\n",
    "\n",
    "import os\n",
    "import random\n",
    "import timm\n",
    "import wandb\n",
    "from tqdm import trange\n",
    "import multiprocessing\n",
    "from functools import partial\n",
    "import numpy as np\n",
    "import PIL\n",
    "from torchvision.transforms import InterpolationMode\n",
    "\n",
    "from sampler import UniqueClassSempler\n",
    "from proxy_anchor.utils import calc_recall_at_k\n",
    "from proxy_anchor.dataset import CUBirds, SOP, Cars\n",
    "from proxy_anchor.dataset.Inshop import Inshop_Dataset\n",
    "from hyptorch.pmath import dist_matrix\n",
    "import hyptorch.nn as hypnn\n",
    "\n",
    "from torch.nn.parallel import DistributedDataParallel as DDP\n",
    "import torch.distributed as dist\n",
    "from datetime import timedelta"
   ]
  },
  {
   "cell_type": "code",
   "execution_count": 2,
   "id": "035ce810",
   "metadata": {},
   "outputs": [],
   "source": [
    "seed = 1\n",
    "random.seed(seed)\n",
    "np.random.seed(seed)\n",
    "torch.manual_seed(seed)\n",
    "torch.cuda.manual_seed_all(seed)"
   ]
  },
  {
   "cell_type": "markdown",
   "id": "53d8dab1",
   "metadata": {},
   "source": [
    "# 超参数"
   ]
  },
  {
   "cell_type": "code",
   "execution_count": 3,
   "id": "65d95a13",
   "metadata": {},
   "outputs": [],
   "source": [
    "num = 1\n",
    "path = '/data/xuyunhao/datasets'\n",
    "ds = 'Cars'\n",
    "num_samples = 2\n",
    "bs = 196\n",
    "\n",
    "lr = 1e-5\n",
    "\n",
    "t = 0.2\n",
    "emb = 128\n",
    "freeze = 0\n",
    "ep = 500\n",
    "hyp_c = 0.1\n",
    "eval_ep = 'r('+str(ep-100)+','+str(ep+10)+',10)'\n",
    "\n",
    "# model = 'vit_small_patch16_224'\n",
    "model = 'dino_vits16'\n",
    "#model = 'deit_small_distilled_patch16_224'\n",
    "\n",
    "save_emb = False\n",
    "emb_name = 'emb'\n",
    "clip_r = 2.3\n",
    "resize = 224\n",
    "crop = 224\n",
    "local_rank = 0\n",
    "save_path = \"/data/xuyunhao/Mixed curvature/result/{}_{}_best_p_{}_{}_checkout.pth\".format(model,ds,emb,num)"
   ]
  },
  {
   "cell_type": "markdown",
   "id": "99033022",
   "metadata": {},
   "source": [
    "# 损失函数"
   ]
  },
  {
   "cell_type": "code",
   "execution_count": 4,
   "id": "926c8c49",
   "metadata": {},
   "outputs": [],
   "source": [
    "def contrastive_loss(x0, x1, tau, hyp_c):\n",
    "    # x0 and x1 - positive pair\n",
    "    # tau - temperature\n",
    "    # hyp_c - hyperbolic curvature, \"0\" enables sphere mode\n",
    "\n",
    "    if hyp_c == 0:\n",
    "        dist_f = lambda x, y: x @ y.t()\n",
    "    else:\n",
    "        dist_f = lambda x, y: -dist_matrix(x, y, c=hyp_c)\n",
    "    bsize = x0.shape[0]\n",
    "    target = torch.arange(bsize).cuda()\n",
    "    eye_mask = torch.eye(bsize).cuda() * 1e9\n",
    "    logits00 = dist_f(x0, x0) / tau - eye_mask\n",
    "    logits01 = dist_f(x0, x1) / tau\n",
    "    logits = torch.cat([logits01, logits00], dim=1)\n",
    "    logits -= logits.max(1, keepdim=True)[0].detach()\n",
    "    loss = F.cross_entropy(logits, target)\n",
    "    stats = {\n",
    "        \"logits/min\": logits01.min().item(),\n",
    "        \"logits/mean\": logits01.mean().item(),\n",
    "        \"logits/max\": logits01.max().item(),\n",
    "        \"logits/acc\": (logits01.argmax(-1) == target).float().mean().item(),\n",
    "    }\n",
    "    return loss, stats"
   ]
  },
  {
   "cell_type": "markdown",
   "id": "a9289f13",
   "metadata": {},
   "source": [
    "# 模型"
   ]
  },
  {
   "cell_type": "code",
   "execution_count": 5,
   "id": "3f22bd88",
   "metadata": {},
   "outputs": [],
   "source": [
    "def init_model(model = model, hyp_c = 0.1, emb = 128, clip_r = 2.3, freeze = 0):\n",
    "    if model.startswith(\"dino\"):\n",
    "        body = torch.hub.load(\"facebookresearch/dino:main\", model)\n",
    "    else:\n",
    "        body = timm.create_model(model, pretrained=True)\n",
    "    if hyp_c > 0:\n",
    "        last = hypnn.ToPoincare(\n",
    "            c=hyp_c,\n",
    "            ball_dim=emb,\n",
    "            riemannian=False,\n",
    "            clip_r=clip_r,\n",
    "        )\n",
    "    else:\n",
    "        last = NormLayer()\n",
    "    bdim = 2048 if model == \"resnet50\" else 384\n",
    "    head = nn.Sequential(nn.Linear(bdim, emb), nn.BatchNorm1d(emb), last)\n",
    "    nn.init.constant_(head[0].bias.data, 0)\n",
    "    nn.init.orthogonal_(head[0].weight.data)\n",
    "    rm_head(body)\n",
    "    if freeze is not None:\n",
    "        freezer(body,freeze)\n",
    "    model = HeadSwitch(body, head)\n",
    "    model.cuda().train()\n",
    "    return model\n",
    "    \n",
    "    \n",
    "class HeadSwitch(nn.Module):\n",
    "    def __init__(self, body, head):\n",
    "        super(HeadSwitch, self).__init__()\n",
    "        self.body = body\n",
    "        self.head = head\n",
    "        self.norm = NormLayer()\n",
    "\n",
    "    def forward(self, x, skip_head=False):\n",
    "        x = self.body(x)\n",
    "        if type(x) == tuple:\n",
    "            x = x[0]\n",
    "        if not skip_head:\n",
    "            x = self.head(x)\n",
    "        else:\n",
    "            x = self.norm(x)\n",
    "        return x\n",
    "\n",
    "\n",
    "class NormLayer(nn.Module):\n",
    "    def forward(self, x):\n",
    "        return F.normalize(x, p=2, dim=1)\n",
    "\n",
    "\n",
    "def freezer(model, num_block):\n",
    "    def fr(m):\n",
    "        for param in m.parameters():\n",
    "            param.requires_grad = False\n",
    "\n",
    "    fr(model.patch_embed)\n",
    "    fr(model.pos_drop)\n",
    "    for i in range(num_block):\n",
    "        fr(model.blocks[i])\n",
    "\n",
    "\n",
    "def rm_head(m):\n",
    "    names = set(x[0] for x in m.named_children())\n",
    "    target = {\"head\", \"fc\", \"head_dist\"}\n",
    "    for x in names & target:\n",
    "        m.add_module(x, nn.Identity())"
   ]
  },
  {
   "cell_type": "code",
   "execution_count": 6,
   "id": "2564c416",
   "metadata": {},
   "outputs": [],
   "source": [
    "class MultiSample:\n",
    "    def __init__(self, transform, n=2):\n",
    "        self.transform = transform\n",
    "        self.num = n\n",
    "\n",
    "    def __call__(self, x):\n",
    "        return tuple(self.transform(x) for _ in range(self.num))\n",
    "\n",
    "\n",
    "def evaluate(get_emb_f, ds_name, hyp_c):\n",
    "    if ds_name == \"CUB\" or ds_name == \"Cars\":\n",
    "        emb_head = get_emb_f(ds_type=\"eval\")\n",
    "        recall_head = get_recall(*emb_head, ds_name, hyp_c)\n",
    "    elif ds_name == \"SOP\":\n",
    "        emb_head = get_emb_f(ds_type=\"eval\")\n",
    "        recall_head = get_recall_sop(*emb_head, ds_name, hyp_c)\n",
    "    else:\n",
    "        emb_head_query = get_emb_f(ds_type=\"query\")\n",
    "        emb_head_gal = get_emb_f(ds_type=\"gallery\")\n",
    "        recall_head = get_recall_inshop(*emb_head_query, *emb_head_gal, hyp_c)\n",
    "    return recall_head\n",
    "\n",
    "\n",
    "def get_recall(x, y, ds_name, hyp_c):\n",
    "    if ds_name == \"CUB\" or ds_name == \"Cars\":\n",
    "        k_list = [1, 2, 4, 8, 16, 32]\n",
    "    elif ds_name == \"SOP\":\n",
    "        k_list = [1, 10, 100, 1000]\n",
    "\n",
    "    if hyp_c > 0:\n",
    "        dist_m = torch.empty(len(x), len(x), device=\"cuda\")\n",
    "        for i in range(len(x)):\n",
    "            dist_m[i : i + 1] = -dist_matrix(x[i : i + 1], x, hyp_c)\n",
    "    else:\n",
    "        dist_m = torch.empty(len(x), len(x), device=\"cuda\")\n",
    "        for i in range(len(x)):\n",
    "            dist_m[i : i + 1] = -torch.cdist(x[i : i + 1], x, p=2)\n",
    "\n",
    "    y_cur = y[dist_m.topk(1 + max(k_list), largest=True)[1][:, 1:]]\n",
    "    y = y.cpu()\n",
    "    y_cur = y_cur.float().cpu()\n",
    "    recall = [calc_recall_at_k(y, y_cur, k) for k in k_list]\n",
    "    print(recall)\n",
    "    return recall[0]\n",
    "\n",
    "\n",
    "def get_recall_sop(x, y, ds_name, hyp_c):\n",
    "    y_cur = torch.tensor([]).cuda().int()\n",
    "    number = 1000\n",
    "    k_list = [1, 10, 100, 1000]\n",
    "    if hyp_c > 0:\n",
    "        for i in range(len(x) // number + 1):\n",
    "            if (i+1)*number > len(x):\n",
    "                x_s = x[i*number:]\n",
    "            else:\n",
    "                x_s = x[i*number: (i+1)*number]\n",
    "            dist = torch.empty(len(x_s), len(x), device=\"cuda\")\n",
    "            for i in range(len(x_s)):\n",
    "                dist[i : i + 1] = -dist_matrix(x_s[i : i + 1], x, hyp_c)\n",
    "            dist = y[dist.topk(1 + max(k_list), largest=True)[1][:, 1:]]\n",
    "            y_cur = torch.cat([y_cur, dist])\n",
    "    else:\n",
    "        for i in range(len(x) // number + 1):\n",
    "            if (i+1)*number > len(x):\n",
    "                x_s = x[i*number:]\n",
    "            else:\n",
    "                x_s = x[i*number: (i+1)*number]\n",
    "            dist = torch.empty(len(x_s), len(x), device=\"cuda\")\n",
    "            for i in range(len(x_s)):\n",
    "                dist[i : i + 1] = -torch.cdist(x_s[i : i + 1], x, p=2)\n",
    "            dist = y[dist.topk(1 + max(k_list), largest=True)[1][:, 1:]]\n",
    "            y_cur = torch.cat([y_cur, dist])\n",
    "    y = y.cpu()\n",
    "    y_cur = y_cur.float().cpu()\n",
    "    recall = [calc_recall_at_k(y, y_cur, k) for k in k_list]\n",
    "    print(recall)\n",
    "    return recall\n",
    "\n",
    "\n",
    "def get_recall_inshop(xq, yq, xg, yg, hyp_c):\n",
    "    if hyp_c > 0:\n",
    "        dist_m = torch.empty(len(xq), len(xg), device=\"cuda\")\n",
    "        for i in range(len(xq)):\n",
    "            dist_m[i : i + 1] = -dist_matrix(xq[i : i + 1], xg, hyp_c)\n",
    "    else:\n",
    "        dist_m = torch.empty(len(xq), len(xg), device=\"cuda\")\n",
    "        for i in range(len(xq)):\n",
    "            dist_m[i : i + 1] = -torch.cdist(xq[i : i + 1], xg, hyp_c)\n",
    "\n",
    "    def recall_k(cos_sim, query_T, gallery_T, k):\n",
    "        m = len(cos_sim)\n",
    "        match_counter = 0\n",
    "        for i in range(m):\n",
    "            pos_sim = cos_sim[i][gallery_T == query_T[i]]\n",
    "            neg_sim = cos_sim[i][gallery_T != query_T[i]]\n",
    "            thresh = torch.max(pos_sim).item()\n",
    "            if torch.sum(neg_sim > thresh) < k:\n",
    "                match_counter += 1\n",
    "        return match_counter / m\n",
    "\n",
    "    recall = [recall_k(dist_m, yq, yg, k) for k in [1, 10, 20, 30, 40, 50]]\n",
    "    print(recall)\n",
    "    return recall\n",
    "\n",
    "\n",
    "def get_emb(\n",
    "    model,\n",
    "    ds,\n",
    "    path,\n",
    "    mean_std,\n",
    "    resize=224,\n",
    "    crop=224,\n",
    "    ds_type=\"eval\",\n",
    "    world_size=1,\n",
    "    skip_head=False,\n",
    "):\n",
    "    eval_tr = T.Compose(\n",
    "        [\n",
    "            T.Resize(resize, interpolation=PIL.Image.BICUBIC),\n",
    "            T.CenterCrop(crop),\n",
    "            T.ToTensor(),\n",
    "            T.Normalize(*mean_std),\n",
    "        ]\n",
    "    )\n",
    "    ds_eval = ds(path, ds_type, eval_tr)\n",
    "    if world_size == 1:\n",
    "        sampler = None\n",
    "    else:\n",
    "        sampler = torch.utils.data.distributed.DistributedSampler(ds_eval)\n",
    "    dl_eval = DataLoader(\n",
    "        dataset=ds_eval,\n",
    "        batch_size=100,\n",
    "        shuffle=False,\n",
    "        num_workers=multiprocessing.cpu_count() // world_size,\n",
    "        pin_memory=True,\n",
    "        drop_last=False,\n",
    "        sampler=sampler,\n",
    "    )\n",
    "    model.eval()\n",
    "    x, y = eval_dataset(model, dl_eval, skip_head)\n",
    "    y = y.cuda()\n",
    "    if world_size > 1:\n",
    "        all_x = [torch.zeros_like(x) for _ in range(world_size)]\n",
    "        all_y = [torch.zeros_like(y) for _ in range(world_size)]\n",
    "        torch.distributed.all_gather(all_x, x)\n",
    "        torch.distributed.all_gather(all_y, y)\n",
    "        x, y = torch.cat(all_x), torch.cat(all_y)\n",
    "    model.train()\n",
    "    return x, y\n",
    "\n",
    "\n",
    "def eval_dataset(model, dl, skip_head):\n",
    "    all_x, all_y = [], []\n",
    "    for x, y in dl:\n",
    "        with torch.no_grad():\n",
    "            x = x.cuda(non_blocking=True)\n",
    "            all_x.append(model(x, skip_head=skip_head))\n",
    "        all_y.append(y)\n",
    "    return torch.cat(all_x), torch.cat(all_y)"
   ]
  },
  {
   "cell_type": "markdown",
   "id": "8d8490f8",
   "metadata": {},
   "source": [
    "# 主函数"
   ]
  },
  {
   "cell_type": "code",
   "execution_count": 7,
   "id": "1cd1ae19",
   "metadata": {
    "scrolled": false
   },
   "outputs": [
    {
     "name": "stderr",
     "output_type": "stream",
     "text": [
      "Failed to detect the name of this notebook, you can set it manually with the WANDB_NOTEBOOK_NAME environment variable to enable code saving.\n",
      "\u001b[34m\u001b[1mwandb\u001b[0m: Currently logged in as: \u001b[33mxuyunhao\u001b[0m. Use \u001b[1m`wandb login --relogin`\u001b[0m to force relogin\n"
     ]
    },
    {
     "data": {
      "text/html": [
       "wandb version 0.14.2 is available!  To upgrade, please run:\n",
       " $ pip install wandb --upgrade"
      ],
      "text/plain": [
       "<IPython.core.display.HTML object>"
      ]
     },
     "metadata": {},
     "output_type": "display_data"
    },
    {
     "data": {
      "text/html": [
       "Tracking run with wandb version 0.13.4"
      ],
      "text/plain": [
       "<IPython.core.display.HTML object>"
      ]
     },
     "metadata": {},
     "output_type": "display_data"
    },
    {
     "data": {
      "text/html": [
       "Run data is saved locally in <code>/data/xuyunhao/Mixed curvature/wandb/run-20230415_201431-142ebd8d</code>"
      ],
      "text/plain": [
       "<IPython.core.display.HTML object>"
      ]
     },
     "metadata": {},
     "output_type": "display_data"
    },
    {
     "data": {
      "text/html": [
       "Syncing run <strong><a href=\"https://wandb.ai/xuyunhao/hyp_metric/runs/142ebd8d\" target=\"_blank\">peachy-morning-477</a></strong> to <a href=\"https://wandb.ai/xuyunhao/hyp_metric\" target=\"_blank\">Weights & Biases</a> (<a href=\"https://wandb.me/run\" target=\"_blank\">docs</a>)<br/>"
      ],
      "text/plain": [
       "<IPython.core.display.HTML object>"
      ]
     },
     "metadata": {},
     "output_type": "display_data"
    },
    {
     "name": "stderr",
     "output_type": "stream",
     "text": [
      "Using cache found in /data/xuyunhao/.cache/torch/hub/facebookresearch_dino_main\n",
      "  0%|                                                                               | 0/500 [00:00<?, ?it/s]/data/xuyunhao/.conda/envs/pytorch/lib/python3.7/site-packages/torchvision/transforms/transforms.py:333: UserWarning: Argument interpolation should be of type InterpolationMode instead of int. Please, use InterpolationMode enum.\n",
      "  \"Argument interpolation should be of type InterpolationMode instead of int. \"\n",
      "  0%|▏                                                                    | 1/500 [00:33<4:41:43, 33.87s/it]"
     ]
    },
    {
     "name": "stdout",
     "output_type": "stream",
     "text": [
      "[0.40523920796949947, 0.5058418398720944, 0.6177591932111671, 0.72672488008855, 0.8205632763497724, 0.9028409789693764]\n"
     ]
    },
    {
     "name": "stderr",
     "output_type": "stream",
     "text": [
      "  2%|█▎                                                                  | 10/500 [01:33<1:31:54, 11.25s/it]"
     ]
    },
    {
     "name": "stdout",
     "output_type": "stream",
     "text": [
      "[0.50448899274382, 0.6221866929037019, 0.7290616160373877, 0.8268355675808634, 0.8989054236871233, 0.9509285450744066]\n",
      "save model........\n"
     ]
    },
    {
     "name": "stderr",
     "output_type": "stream",
     "text": [
      "  4%|██▋                                                                   | 19/500 [02:11<33:48,  4.22s/it]"
     ]
    },
    {
     "name": "stdout",
     "output_type": "stream",
     "text": [
      "[0.5911941950559587, 0.7002828680359119, 0.7888328618866068, 0.8676669536342393, 0.9274381994834584, 0.9644570163571516]\n",
      "save model........\n"
     ]
    },
    {
     "name": "stderr",
     "output_type": "stream",
     "text": [
      "  6%|████                                                                  | 29/500 [03:16<33:37,  4.28s/it]"
     ]
    },
    {
     "name": "stdout",
     "output_type": "stream",
     "text": [
      "[0.6556389128028532, 0.7559955725003075, 0.8359365391710737, 0.9001352847128274, 0.9445332677407453, 0.972082154716517]\n",
      "save model........\n"
     ]
    },
    {
     "name": "stderr",
     "output_type": "stream",
     "text": [
      "  8%|█████▍                                                                | 39/500 [04:21<33:23,  4.35s/it]"
     ]
    },
    {
     "name": "stdout",
     "output_type": "stream",
     "text": [
      "[0.6881072438814414, 0.7846513343992129, 0.8574591071208953, 0.9115729922518755, 0.951051531176977, 0.9754027794859181]\n",
      "save model........\n"
     ]
    },
    {
     "name": "stderr",
     "output_type": "stream",
     "text": [
      " 10%|██████▊                                                               | 49/500 [05:28<32:53,  4.37s/it]"
     ]
    },
    {
     "name": "stdout",
     "output_type": "stream",
     "text": [
      "[0.7054482843438692, 0.8034682080924855, 0.8734473004550486, 0.9206739638420859, 0.9553560447669414, 0.9792153486656008]\n",
      "save model........\n"
     ]
    },
    {
     "name": "stderr",
     "output_type": "stream",
     "text": [
      " 12%|████████▎                                                             | 59/500 [06:29<30:05,  4.09s/it]"
     ]
    },
    {
     "name": "stdout",
     "output_type": "stream",
     "text": [
      "[0.7334891157299225, 0.822531053990899, 0.8867297995326529, 0.9301438937400074, 0.9599065305620464, 0.9793383347681712]\n",
      "save model........\n"
     ]
    },
    {
     "name": "stderr",
     "output_type": "stream",
     "text": [
      " 14%|█████████▌                                                          | 70/500 [08:00<1:19:17, 11.06s/it]"
     ]
    },
    {
     "name": "stdout",
     "output_type": "stream",
     "text": [
      "[0.7274627967039724, 0.8237609150166031, 0.8875907022506456, 0.9319886852785635, 0.9602754888697577, 0.981675070717009]\n"
     ]
    },
    {
     "name": "stderr",
     "output_type": "stream",
     "text": [
      " 16%|███████████                                                           | 79/500 [08:34<28:51,  4.11s/it]"
     ]
    },
    {
     "name": "stdout",
     "output_type": "stream",
     "text": [
      "[0.7389005042430206, 0.8344607059402288, 0.8939859795843069, 0.9377690320993728, 0.9665477801008486, 0.9815520846144385]\n",
      "save model........\n"
     ]
    },
    {
     "name": "stderr",
     "output_type": "stream",
     "text": [
      " 18%|████████████▍                                                         | 89/500 [09:38<28:38,  4.18s/it]"
     ]
    },
    {
     "name": "stdout",
     "output_type": "stream",
     "text": [
      "[0.7543967531668921, 0.8424548026073053, 0.9027179928668061, 0.9414586151764851, 0.966670766203419, 0.9827819456401427]\n",
      "save model........\n"
     ]
    },
    {
     "name": "stderr",
     "output_type": "stream",
     "text": [
      " 20%|█████████████▊                                                        | 99/500 [10:43<28:25,  4.25s/it]"
     ]
    },
    {
     "name": "stdout",
     "output_type": "stream",
     "text": [
      "[0.7717377936293199, 0.8546304267617759, 0.9093592424056082, 0.951051531176977, 0.9710982658959537, 0.9859795843069733]\n",
      "save model........\n"
     ]
    },
    {
     "name": "stderr",
     "output_type": "stream",
     "text": [
      " 22%|███████████████                                                      | 109/500 [11:46<27:43,  4.25s/it]"
     ]
    },
    {
     "name": "stdout",
     "output_type": "stream",
     "text": [
      "[0.7814536957323822, 0.8631164678391342, 0.9175993112778256, 0.9527733366129627, 0.9744188906653548, 0.986471528717255]\n",
      "save model........\n"
     ]
    },
    {
     "name": "stderr",
     "output_type": "stream",
     "text": [
      " 24%|████████████████▍                                                    | 119/500 [12:49<26:12,  4.13s/it]"
     ]
    },
    {
     "name": "stdout",
     "output_type": "stream",
     "text": [
      "[0.7872340425531915, 0.865453203787972, 0.9211659082523674, 0.9544951420489485, 0.9751568072807772, 0.9877013897429591]\n",
      "save model........\n"
     ]
    },
    {
     "name": "stderr",
     "output_type": "stream",
     "text": [
      " 26%|█████████████████▍                                                 | 130/500 [14:17<1:08:11, 11.06s/it]"
     ]
    },
    {
     "name": "stdout",
     "output_type": "stream",
     "text": [
      "[0.7828065428606568, 0.866068134300824, 0.9196900750215226, 0.9514204894846883, 0.9742959045627844, 0.987086459230107]\n"
     ]
    },
    {
     "name": "stderr",
     "output_type": "stream",
     "text": [
      " 28%|███████████████████▏                                                 | 139/500 [14:52<25:20,  4.21s/it]"
     ]
    },
    {
     "name": "stdout",
     "output_type": "stream",
     "text": [
      "[0.7951051531176977, 0.8724634116344853, 0.9235026442012053, 0.9551100725618005, 0.9736809740499324, 0.9872094453326774]\n",
      "save model........\n"
     ]
    },
    {
     "name": "stderr",
     "output_type": "stream",
     "text": [
      " 30%|████████████████████▌                                                | 149/500 [15:53<23:48,  4.07s/it]"
     ]
    },
    {
     "name": "stdout",
     "output_type": "stream",
     "text": [
      "[0.7999016111179437, 0.8761529947115976, 0.925224449637191, 0.9578157668183496, 0.9766326405116222, 0.9880703480506703]\n",
      "save model........\n"
     ]
    },
    {
     "name": "stderr",
     "output_type": "stream",
     "text": [
      " 32%|█████████████████████▍                                             | 160/500 [17:21<1:02:43, 11.07s/it]"
     ]
    },
    {
     "name": "stdout",
     "output_type": "stream",
     "text": [
      "[0.7964580002459722, 0.8754150780961751, 0.9241175747140573, 0.956462919690075, 0.9761406961013406, 0.9881933341532407]\n"
     ]
    },
    {
     "name": "stderr",
     "output_type": "stream",
     "text": [
      " 34%|███████████████████████▎                                             | 169/500 [17:56<22:26,  4.07s/it]"
     ]
    },
    {
     "name": "stdout",
     "output_type": "stream",
     "text": [
      "[0.8027302914770631, 0.8784897306604353, 0.927315213380888, 0.9589226417414832, 0.9773705571270447, 0.9872094453326774]\n",
      "save model........\n"
     ]
    },
    {
     "name": "stderr",
     "output_type": "stream",
     "text": [
      " 36%|████████████████████████▋                                            | 179/500 [18:58<21:50,  4.08s/it]"
     ]
    },
    {
     "name": "stdout",
     "output_type": "stream",
     "text": [
      "[0.8103554298364285, 0.8830402164555405, 0.9317427130734227, 0.9596605583569057, 0.977493543229615, 0.9875784036403886]\n",
      "save model........\n"
     ]
    },
    {
     "name": "stderr",
     "output_type": "stream",
     "text": [
      " 38%|██████████████████████████                                           | 189/500 [19:59<20:51,  4.02s/it]"
     ]
    },
    {
     "name": "stdout",
     "output_type": "stream",
     "text": [
      "[0.8131841101955479, 0.888574591071209, 0.9344484073299717, 0.9605214610748986, 0.9778625015373262, 0.9877013897429591]\n",
      "save model........\n"
     ]
    },
    {
     "name": "stderr",
     "output_type": "stream",
     "text": [
      " 40%|███████████████████████████▍                                         | 199/500 [21:00<20:04,  4.00s/it]"
     ]
    },
    {
     "name": "stdout",
     "output_type": "stream",
     "text": [
      "[0.8156438322469561, 0.8927561185586029, 0.9356782683556758, 0.963350141434018, 0.9783544459476079, 0.9879473619480998]\n",
      "save model........\n"
     ]
    },
    {
     "name": "stderr",
     "output_type": "stream",
     "text": [
      " 42%|████████████████████████████▊                                        | 209/500 [22:05<20:21,  4.20s/it]"
     ]
    },
    {
     "name": "stdout",
     "output_type": "stream",
     "text": [
      "[0.81982535973435, 0.8922641741483213, 0.9355552822531054, 0.9621202804083139, 0.9786004181527488, 0.9886852785635223]\n",
      "save model........\n"
     ]
    },
    {
     "name": "stderr",
     "output_type": "stream",
     "text": [
      " 44%|██████████████████████████████▏                                      | 219/500 [23:09<18:24,  3.93s/it]"
     ]
    },
    {
     "name": "stdout",
     "output_type": "stream",
     "text": [
      "[0.8199483458369204, 0.8900504243020538, 0.9346943795351126, 0.9632271553314475, 0.9794613208707416, 0.9888082646660927]\n",
      "save model........\n"
     ]
    },
    {
     "name": "stderr",
     "output_type": "stream",
     "text": [
      " 46%|███████████████████████████████▋                                     | 230/500 [24:37<45:06, 10.02s/it]"
     ]
    },
    {
     "name": "stdout",
     "output_type": "stream",
     "text": [
      "[0.8182265404009347, 0.89189521584061, 0.935432296150535, 0.9602754888697577, 0.9771245849219038, 0.988562292460952]\n"
     ]
    },
    {
     "name": "stderr",
     "output_type": "stream",
     "text": [
      " 48%|████████████████████████████████▉                                    | 239/500 [25:10<16:24,  3.77s/it]"
     ]
    },
    {
     "name": "stdout",
     "output_type": "stream",
     "text": [
      "[0.8210552207600541, 0.8934940351740254, 0.9371541015865207, 0.9632271553314475, 0.9781084737424671, 0.988562292460952]\n",
      "save model........\n"
     ]
    },
    {
     "name": "stderr",
     "output_type": "stream",
     "text": [
      " 50%|██████████████████████████████████▌                                  | 250/500 [26:33<43:27, 10.43s/it]"
     ]
    },
    {
     "name": "stdout",
     "output_type": "stream",
     "text": [
      "[0.8204402902472021, 0.8912802853277579, 0.9375230598942319, 0.9631041692288771, 0.97896937646046, 0.9877013897429591]\n"
     ]
    },
    {
     "name": "stderr",
     "output_type": "stream",
     "text": [
      " 52%|███████████████████████████████████▉                                 | 260/500 [27:31<41:35, 10.40s/it]"
     ]
    },
    {
     "name": "stdout",
     "output_type": "stream",
     "text": [
      "[0.8206862624523429, 0.8938629934817366, 0.9367851432788095, 0.9642110441520109, 0.9797072930758824, 0.9890542368712335]\n"
     ]
    },
    {
     "name": "stderr",
     "output_type": "stream",
     "text": [
      " 54%|█████████████████████████████████████                                | 269/500 [28:05<15:44,  4.09s/it]"
     ]
    },
    {
     "name": "stdout",
     "output_type": "stream",
     "text": [
      "[0.8292952896322715, 0.8964457016357151, 0.9376460459968023, 0.9626122248185955, 0.9782314598450376, 0.9886852785635223]\n",
      "save model........\n"
     ]
    },
    {
     "name": "stderr",
     "output_type": "stream",
     "text": [
      " 56%|██████████████████████████████████████▌                              | 279/500 [29:16<16:23,  4.45s/it]"
     ]
    },
    {
     "name": "stdout",
     "output_type": "stream",
     "text": [
      "[0.8312630672733982, 0.8953388267125815, 0.9377690320993728, 0.961874308203173, 0.9784774320501783, 0.9893002090763744]\n",
      "save model........\n"
     ]
    },
    {
     "name": "stderr",
     "output_type": "stream",
     "text": [
      " 58%|████████████████████████████████████████                             | 290/500 [30:52<41:33, 11.87s/it]"
     ]
    },
    {
     "name": "stdout",
     "output_type": "stream",
     "text": [
      "[0.8268355675808634, 0.8954618128151519, 0.9391218792276472, 0.9629811831263068, 0.9809371541015866, 0.9894231951789447]\n"
     ]
    },
    {
     "name": "stderr",
     "output_type": "stream",
     "text": [
      " 60%|█████████████████████████████████████████▍                           | 300/500 [32:01<39:35, 11.88s/it]"
     ]
    },
    {
     "name": "stdout",
     "output_type": "stream",
     "text": [
      "[0.8299102201451236, 0.8965686877382856, 0.9376460459968023, 0.9624892387160251, 0.9808141679990161, 0.9895461812815152]\n"
     ]
    },
    {
     "name": "stderr",
     "output_type": "stream",
     "text": [
      " 62%|██████████████████████████████████████████▊                          | 310/500 [33:05<36:17, 11.46s/it]"
     ]
    },
    {
     "name": "stdout",
     "output_type": "stream",
     "text": [
      "[0.8269585536834337, 0.8943549378920183, 0.9358012544582462, 0.9637190997417292, 0.9804452096913049, 0.9890542368712335]\n"
     ]
    },
    {
     "name": "stderr",
     "output_type": "stream",
     "text": [
      " 64%|████████████████████████████████████████████▏                        | 320/500 [34:11<34:19, 11.44s/it]"
     ]
    },
    {
     "name": "stdout",
     "output_type": "stream",
     "text": [
      "[0.8264666092731522, 0.8937400073791661, 0.9389988931250769, 0.9634731275365883, 0.9805681957938753, 0.9895461812815152]\n"
     ]
    },
    {
     "name": "stderr",
     "output_type": "stream",
     "text": [
      " 66%|█████████████████████████████████████████████▌                       | 330/500 [35:16<33:19, 11.76s/it]"
     ]
    },
    {
     "name": "stdout",
     "output_type": "stream",
     "text": [
      "[0.829418275734842, 0.8995203541999754, 0.9398597958430698, 0.9649489607674333, 0.9801992374861641, 0.9883163202558111]\n"
     ]
    },
    {
     "name": "stderr",
     "output_type": "stream",
     "text": [
      " 68%|██████████████████████████████████████████████▊                      | 339/500 [35:53<12:19,  4.59s/it]"
     ]
    },
    {
     "name": "stdout",
     "output_type": "stream",
     "text": [
      "[0.8313860533759685, 0.9012421596359611, 0.9446562538433158, 0.9686385438445456, 0.9809371541015866, 0.9893002090763744]\n",
      "save model........\n"
     ]
    },
    {
     "name": "stderr",
     "output_type": "stream",
     "text": [
      " 70%|████████████████████████████████████████████████▏                    | 349/500 [36:57<10:46,  4.28s/it]"
     ]
    },
    {
     "name": "stdout",
     "output_type": "stream",
     "text": [
      "[0.8331078588119543, 0.9033329233796581, 0.9451481982535973, 0.9677776411265527, 0.9819210429221498, 0.9899151395892264]\n",
      "save model........\n"
     ]
    },
    {
     "name": "stderr",
     "output_type": "stream",
     "text": [
      " 72%|█████████████████████████████████████████████████▌                   | 359/500 [38:03<10:06,  4.30s/it]"
     ]
    },
    {
     "name": "stdout",
     "output_type": "stream",
     "text": [
      "[0.8363054974787849, 0.9017341040462428, 0.9419505595867667, 0.9647029885622924, 0.9810601402041569, 0.9895461812815152]\n",
      "save model........\n"
     ]
    },
    {
     "name": "stderr",
     "output_type": "stream",
     "text": [
      " 74%|██████████████████████████████████████████████████▉                  | 369/500 [39:12<09:48,  4.49s/it]"
     ]
    },
    {
     "name": "stdout",
     "output_type": "stream",
     "text": [
      "[0.8424548026073053, 0.9092362563030377, 0.9424425039970483, 0.9683925716394047, 0.9825359734350019, 0.9900381256917968]\n",
      "save model........\n"
     ]
    },
    {
     "name": "stderr",
     "output_type": "stream",
     "text": [
      " 76%|████████████████████████████████████████████████████▎                | 379/500 [40:16<08:15,  4.09s/it]"
     ]
    },
    {
     "name": "stdout",
     "output_type": "stream",
     "text": [
      "[0.8445455663510023, 0.9080063952773336, 0.9442872955356045, 0.9677776411265527, 0.9820440290247202, 0.9900381256917968]\n",
      "save model........\n"
     ]
    },
    {
     "name": "stderr",
     "output_type": "stream",
     "text": [
      " 78%|█████████████████████████████████████████████████████▊               | 390/500 [41:42<19:05, 10.42s/it]"
     ]
    },
    {
     "name": "stdout",
     "output_type": "stream",
     "text": [
      "[0.8434386914278686, 0.9043168122002214, 0.9399827819456401, 0.9661788217931374, 0.9824129873324314, 0.9894231951789447]\n"
     ]
    },
    {
     "name": "stderr",
     "output_type": "stream",
     "text": [
      " 80%|███████████████████████████████████████████████████████▏             | 400/500 [42:39<17:07, 10.28s/it]"
     ]
    },
    {
     "name": "stdout",
     "output_type": "stream",
     "text": [
      "[0.844422580248432, 0.9046857705079326, 0.9439183372278932, 0.9691304882548272, 0.9820440290247202, 0.9916369450252122]\n"
     ]
    },
    {
     "name": "stderr",
     "output_type": "stream",
     "text": [
      " 82%|████████████████████████████████████████████████████████▍            | 409/500 [43:13<05:57,  3.93s/it]"
     ]
    },
    {
     "name": "stdout",
     "output_type": "stream",
     "text": [
      "[0.8460213995818473, 0.9059156315336367, 0.9446562538433158, 0.968146599434264, 0.981675070717009, 0.9912679867175009]\n",
      "save model........\n"
     ]
    },
    {
     "name": "stderr",
     "output_type": "stream",
     "text": [
      " 84%|█████████████████████████████████████████████████████████▊           | 419/500 [44:10<05:06,  3.79s/it]"
     ]
    },
    {
     "name": "stdout",
     "output_type": "stream",
     "text": [
      "[0.8497109826589595, 0.910220145123601, 0.9439183372278932, 0.9685155577419752, 0.9821670151272907, 0.9901611117943673]\n",
      "save model........\n"
     ]
    },
    {
     "name": "stderr",
     "output_type": "stream",
     "text": [
      " 86%|███████████████████████████████████████████████████████████▎         | 430/500 [45:34<12:00, 10.30s/it]"
     ]
    },
    {
     "name": "stdout",
     "output_type": "stream",
     "text": [
      "[0.8488500799409666, 0.9099741729184602, 0.9466240314844423, 0.9693764604599681, 0.9820440290247202, 0.9902840978969376]\n"
     ]
    },
    {
     "name": "stderr",
     "output_type": "stream",
     "text": [
      " 88%|████████████████████████████████████████████████████████████▌        | 439/500 [46:05<03:54,  3.85s/it]"
     ]
    },
    {
     "name": "stdout",
     "output_type": "stream",
     "text": [
      "[0.8518017464026565, 0.9091132702004674, 0.9449022260484565, 0.9674086828188415, 0.9835198622555651, 0.9907760423072193]\n",
      "save model........\n"
     ]
    },
    {
     "name": "stderr",
     "output_type": "stream",
     "text": [
      " 88%|████████████████████████████████████████████████████████████▊        | 441/500 [46:34<08:00,  8.15s/it]wandb: Network error (ConnectTimeout), entering retry loop.\n",
      " 90%|██████████████████████████████████████████████████████████████       | 450/500 [47:29<08:43, 10.47s/it]"
     ]
    },
    {
     "name": "stdout",
     "output_type": "stream",
     "text": [
      "[0.8497109826589595, 0.908990284097897, 0.9458861148690199, 0.9699913909728201, 0.9820440290247202, 0.9896691673840856]\n"
     ]
    },
    {
     "name": "stderr",
     "output_type": "stream",
     "text": [
      " 92%|███████████████████████████████████████████████████████████████▍     | 460/500 [48:27<06:51, 10.29s/it]"
     ]
    },
    {
     "name": "stdout",
     "output_type": "stream",
     "text": [
      "[0.8451604968638544, 0.9057926454310663, 0.9423195178944779, 0.9675316689214118, 0.9815520846144385, 0.9897921534866561]\n"
     ]
    },
    {
     "name": "stderr",
     "output_type": "stream",
     "text": [
      " 94%|████████████████████████████████████████████████████████████████▊    | 470/500 [49:24<05:03, 10.12s/it]"
     ]
    },
    {
     "name": "stdout",
     "output_type": "stream",
     "text": [
      "[0.8484811216332554, 0.9068995203542, 0.9446562538433158, 0.9676546550239823, 0.9804452096913049, 0.988562292460952]\n"
     ]
    },
    {
     "name": "stderr",
     "output_type": "stream",
     "text": [
      " 96%|██████████████████████████████████████████████████████████████████▏  | 480/500 [50:21<03:22, 10.12s/it]"
     ]
    },
    {
     "name": "stdout",
     "output_type": "stream",
     "text": [
      "[0.8513098019923748, 0.9110810478415939, 0.947730906407576, 0.965440905177715, 0.981675070717009, 0.9896691673840856]\n"
     ]
    },
    {
     "name": "stderr",
     "output_type": "stream",
     "text": [
      " 98%|███████████████████████████████████████████████████████████████████▍ | 489/500 [50:53<00:42,  3.86s/it]"
     ]
    },
    {
     "name": "stdout",
     "output_type": "stream",
     "text": [
      "[0.8522936908129382, 0.9097282007133194, 0.9457631287664494, 0.9685155577419752, 0.9813061124092978, 0.9905300701020785]\n",
      "save model........\n"
     ]
    },
    {
     "name": "stderr",
     "output_type": "stream",
     "text": [
      " 99%|████████████████████████████████████████████████████████████████████▏| 494/500 [51:32<00:30,  5.05s/it]wandb: Network error (ConnectTimeout), entering retry loop.\n",
      "100%|█████████████████████████████████████████████████████████████████████| 500/500 [52:17<00:00,  6.27s/it]"
     ]
    },
    {
     "name": "stdout",
     "output_type": "stream",
     "text": [
      "[0.8515557741975157, 0.912310908867298, 0.9453941704587382, 0.9682695855368343, 0.9817980568195794, 0.9901611117943673]\n",
      "best: 490 0.8522936908129382\n"
     ]
    },
    {
     "name": "stderr",
     "output_type": "stream",
     "text": [
      "\n"
     ]
    }
   ],
   "source": [
    "os.environ[\"CUDA_VISIBLE_DEVICES\"] =  \"1,2\"\n",
    "if local_rank == 0:\n",
    "    wandb.init(project=\"hyp_metric\")\n",
    "\n",
    "world_size = int(os.environ.get(\"WORLD_SIZE\", 1))\n",
    "    \n",
    "if model.startswith(\"vit\"):\n",
    "    mean_std = (0.5, 0.5, 0.5), (0.5, 0.5, 0.5)\n",
    "else:\n",
    "    mean_std = (0.485, 0.456, 0.406), (0.229, 0.224, 0.225)\n",
    "train_tr = T.Compose(\n",
    "    [\n",
    "        T.RandomResizedCrop(\n",
    "            crop, scale=(0.2, 1.0), interpolation=InterpolationMode.BICUBIC\n",
    "        ),\n",
    "        T.RandomHorizontalFlip(),\n",
    "        T.ToTensor(),\n",
    "        T.Normalize(*mean_std),\n",
    "    ]\n",
    ")\n",
    "\n",
    "ds_list = {\"CUB\": CUBirds, \"SOP\": SOP, \"Cars\": Cars, \"Inshop\": Inshop_Dataset}\n",
    "ds_class = ds_list[ds]\n",
    "ds_train = ds_class(path, \"train\", train_tr)\n",
    "assert len(ds_train.ys) * num_samples >= bs * world_size\n",
    "sampler = UniqueClassSempler(\n",
    "    ds_train.ys, num_samples, local_rank, world_size\n",
    ")\n",
    "dl_train = DataLoader(\n",
    "    dataset=ds_train,\n",
    "    sampler=sampler,\n",
    "    batch_size=bs,\n",
    "    num_workers=8,\n",
    "    pin_memory=True,\n",
    "    drop_last=True,\n",
    ")\n",
    "\n",
    "model = init_model(model = model, hyp_c = hyp_c, emb = emb, clip_r = clip_r, freeze = freeze)\n",
    "optimizer = optim.AdamW(model.parameters(), lr=lr)\n",
    "model = nn.DataParallel(model)\n",
    "\n",
    "loss_f = partial(contrastive_loss, tau=t, hyp_c=hyp_c)\n",
    "get_emb_f = partial(\n",
    "    get_emb,\n",
    "    model=model,\n",
    "    ds=ds_class,\n",
    "    path=path,\n",
    "    mean_std=mean_std,\n",
    "    world_size=world_size,\n",
    "    resize=resize,\n",
    "    crop=crop,\n",
    ")\n",
    "eval_ep = eval(eval_ep.replace(\"r\", \"list(range\").replace(\")\", \"))\"))    \n",
    "\n",
    "cudnn.benchmark = True\n",
    "all_rh = []\n",
    "best_rh = []\n",
    "best_ep = 0\n",
    "lower_cnt = 0\n",
    "\n",
    "for ep in trange(ep):\n",
    "    sampler.set_epoch(ep)\n",
    "    stats_ep = []\n",
    "    for x, y in dl_train:\n",
    "        y = y.view(len(y) // num_samples, num_samples)\n",
    "        assert (y[:, 0] == y[:, -1]).all()\n",
    "        s = y[:, 0].tolist()\n",
    "        assert len(set(s)) == len(s)\n",
    "\n",
    "        x = x.cuda(non_blocking=True)\n",
    "        z = model(x)\n",
    "        z=z.view(len(x) // num_samples, num_samples, emb)\n",
    "        if world_size > 1:\n",
    "            with torch.no_grad():\n",
    "                all_z = [torch.zeros_like(z) for _ in range(world_size)]\n",
    "                torch.distributed.all_gather(all_z, z)\n",
    "            all_z[local_rank] = z\n",
    "            z = torch.cat(all_z)\n",
    "        loss = 0\n",
    "        for i in range(num_samples):\n",
    "            for j in range(num_samples):\n",
    "                if i != j:\n",
    "                    l, s = loss_f(z[:, i], z[:, j])\n",
    "                    loss += l\n",
    "                    stats_ep.append({**s, \"loss\": l.item()})\n",
    "\n",
    "        optimizer.zero_grad()\n",
    "        loss.backward()\n",
    "        torch.nn.utils.clip_grad_norm_(amp.master_params(optimizer), 3)\n",
    "        optimizer.step()\n",
    "\n",
    "#     if (ep + 1) in eval_ep:\n",
    "#         rh= evaluate(get_emb_f, ds, hyp_c)\n",
    "\n",
    "    if (ep+1) % 10 == 0 or ep == 0:\n",
    "        rh = evaluate(get_emb_f, ds, hyp_c)\n",
    "        all_rh.append(rh)\n",
    "        if ep == 0:\n",
    "            best_rh = rh\n",
    "        else:\n",
    "            if isinstance(rh, list):\n",
    "                if rh[0] >= best_rh[0]:\n",
    "                    lower_cnt = 0\n",
    "                    best_rh = rh\n",
    "                    best_ep = ep\n",
    "                    print(\"save model........\")\n",
    "                    torch.save(model.state_dict(), save_path)\n",
    "                else:\n",
    "                    lower_cnt += 1\n",
    "            else:\n",
    "                if rh >= best_rh:\n",
    "                    lower_cnt = 0\n",
    "                    best_rh = rh\n",
    "                    best_ep = ep\n",
    "                    print(\"save model........\")\n",
    "                    torch.save(model.state_dict(), save_path)\n",
    "                else:\n",
    "                    lower_cnt += 1\n",
    "    \n",
    "    if lower_cnt >= 10:\n",
    "        break\n",
    "\n",
    "    if local_rank == 0:\n",
    "        stats_ep = {k: np.mean([x[k] for x in stats_ep]) for k in stats_ep[0]}\n",
    "#         if (ep + 1) in eval_ep:\n",
    "#             stats_ep = {\"recall\": rh, **stats_ep}\n",
    "        stats_ep = {\"recall\": rh, **stats_ep}\n",
    "        wandb.log({**stats_ep, \"ep\": ep})\n",
    "        \n",
    "print(\"best:\", best_ep+1, best_rh)\n",
    "        \n",
    "if save_emb:\n",
    "    ds_type = \"gallery\" if ds == \"Inshop\" else \"eval\"\n",
    "    x, y = get_emb_f(ds_type=ds_type)\n",
    "    x, y = x.float().cpu(), y.long().cpu()\n",
    "    torch.save((x, y), path + \"/\" + emb_name + \"_eval.pt\")\n",
    "\n",
    "    x, y = get_emb_f(ds_type=\"train\")\n",
    "    x, y = x.float().cpu(), y.long().cpu()\n",
    "    torch.save((x, y), path + \"/\" + emb_name + \"_train.pt\")"
   ]
  },
  {
   "cell_type": "code",
   "execution_count": null,
   "id": "dd0c1024",
   "metadata": {},
   "outputs": [],
   "source": []
  }
 ],
 "metadata": {
  "kernelspec": {
   "display_name": "Python 3 (ipykernel)",
   "language": "python",
   "name": "python3"
  },
  "language_info": {
   "codemirror_mode": {
    "name": "ipython",
    "version": 3
   },
   "file_extension": ".py",
   "mimetype": "text/x-python",
   "name": "python",
   "nbconvert_exporter": "python",
   "pygments_lexer": "ipython3",
   "version": "3.7.11"
  }
 },
 "nbformat": 4,
 "nbformat_minor": 5
}
