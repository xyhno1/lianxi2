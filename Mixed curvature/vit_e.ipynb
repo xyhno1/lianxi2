{
 "cells": [
  {
   "cell_type": "code",
   "execution_count": 1,
   "id": "cdc03388",
   "metadata": {},
   "outputs": [],
   "source": [
    "import torch\n",
    "import torch.nn as nn\n",
    "import torch.optim as optim\n",
    "import torchvision.transforms as T\n",
    "import torch.nn.functional as F\n",
    "from torch.utils.data import DataLoader\n",
    "import torch.backends.cudnn as cudnn\n",
    "from apex import amp\n",
    "\n",
    "import os\n",
    "import random\n",
    "import timm\n",
    "import wandb\n",
    "from tqdm import trange\n",
    "import multiprocessing\n",
    "from functools import partial\n",
    "import numpy as np\n",
    "import PIL\n",
    "from torchvision.transforms import InterpolationMode\n",
    "\n",
    "from sampler import UniqueClassSempler\n",
    "from proxy_anchor.utils import calc_recall_at_k\n",
    "from proxy_anchor.dataset import CUBirds, SOP, Cars\n",
    "from proxy_anchor.dataset.Inshop import Inshop_Dataset\n",
    "from hyptorch.pmath import dist_matrix\n",
    "import hyptorch.nn as hypnn\n",
    "\n",
    "import torch.distributed as dist\n",
    "from datetime import timedelta"
   ]
  },
  {
   "cell_type": "markdown",
   "id": "797638fe",
   "metadata": {},
   "source": [
    "# 超参数"
   ]
  },
  {
   "cell_type": "code",
   "execution_count": 2,
   "id": "52453a48",
   "metadata": {},
   "outputs": [],
   "source": [
    "num = 2\n",
    "path = '/data/xuyunhao/datasets'\n",
    "ds = 'Inshop'\n",
    "num_samples = 2\n",
    "bs = 200\n",
    "\n",
    "lr = 3e-5\n",
    "\n",
    "t = 0.2\n",
    "emb = 128\n",
    "freeze = 0\n",
    "epoch = 500\n",
    "hyp_c = 0\n",
    "eval_ep = 'r('+str(epoch-100)+','+str(epoch+10)+',10)'\n",
    "\n",
    "model = 'vit_small_patch16_224'\n",
    "# model = 'dino_vits16'\n",
    "# model = 'deit_small_distilled_patch16_224'\n",
    "\n",
    "save_emb = False\n",
    "emb_name = 'emb'\n",
    "clip_r = 2.3\n",
    "resize = 224\n",
    "crop = 224\n",
    "local_rank = 0\n",
    "save_path = \"/data/xuyunhao/Mixed curvature/result/{}_{}_best_e_{}_{}_checkout.pth\".format(model,ds,emb,num)"
   ]
  },
  {
   "cell_type": "markdown",
   "id": "6acc5c73",
   "metadata": {},
   "source": [
    "# 损失函数"
   ]
  },
  {
   "cell_type": "code",
   "execution_count": 3,
   "id": "24637104",
   "metadata": {},
   "outputs": [],
   "source": [
    "def contrastive_loss(e0, e1, tau):\n",
    "    # x0 and x1 - positive pair\n",
    "    # tau - temperature\n",
    "    # hyp_c - hyperbolic curvature, \"0\" enables sphere mode\n",
    "    dist_e = lambda x, y: -torch.cdist(x, y, p=2)\n",
    "    \n",
    "    dist_e0 = dist_e(e0, e0)   \n",
    "    dist_e1 = dist_e(e0, e1)\n",
    "\n",
    "    bsize = e0.shape[0]\n",
    "    target = torch.arange(bsize).cuda()\n",
    "    eye_mask = torch.eye(bsize).cuda() * 1e9\n",
    "    \n",
    "    logits00 = dist_e0 / tau - eye_mask\n",
    "    logits01 = dist_e1 / tau\n",
    "    \n",
    "    logits = torch.cat([logits01, logits00], dim=1)\n",
    "    logits -= logits.max(1, keepdim=True)[0].detach()\n",
    "    loss = F.cross_entropy(logits, target)\n",
    "    stats = {\n",
    "        \"logits/min\": logits01.min().item(),\n",
    "        \"logits/mean\": logits01.mean().item(),\n",
    "        \"logits/max\": logits01.max().item(),\n",
    "        \"logits/acc\": (logits01.argmax(-1) == target).float().mean().item(),\n",
    "    }\n",
    "    return loss, stats"
   ]
  },
  {
   "cell_type": "markdown",
   "id": "2abeb556",
   "metadata": {},
   "source": [
    "# 模型"
   ]
  },
  {
   "cell_type": "code",
   "execution_count": 4,
   "id": "4bd62093",
   "metadata": {},
   "outputs": [],
   "source": [
    "def init_model(model = model, hyp_c = 0.1, emb = 128, clip_r = 2.3, freeze = 0):\n",
    "    if model.startswith(\"dino\"):\n",
    "        body = torch.hub.load(\"facebookresearch/dino:main\", model)\n",
    "    else:\n",
    "        body = timm.create_model(model, pretrained=True)\n",
    "    if hyp_c > 0:\n",
    "        last = hypnn.ToPoincare(\n",
    "            c=hyp_c,\n",
    "            ball_dim=emb,\n",
    "            riemannian=False,\n",
    "            clip_r=clip_r,\n",
    "        )\n",
    "    else:\n",
    "        last = NormLayer()\n",
    "    bdim = 2048 if model == \"resnet50\" else 384\n",
    "    head = nn.Sequential(nn.Linear(bdim, emb), nn.BatchNorm1d(emb))\n",
    "    nn.init.constant_(head[0].bias.data, 0)\n",
    "    nn.init.orthogonal_(head[0].weight.data)\n",
    "    rm_head(body)\n",
    "    if freeze is not None:\n",
    "        freezer(body,freeze)\n",
    "    model = HeadSwitch(body, head)\n",
    "    model.cuda().train()\n",
    "    return model\n",
    "    \n",
    "    \n",
    "class HeadSwitch(nn.Module):\n",
    "    def __init__(self, body, head):\n",
    "        super(HeadSwitch, self).__init__()\n",
    "        self.body = body\n",
    "        self.head = head\n",
    "        self.norm = NormLayer()\n",
    "\n",
    "    def forward(self, x, skip_head=False):\n",
    "        x = self.body(x)\n",
    "        if type(x) == tuple:\n",
    "            x = x[0]\n",
    "        if not skip_head:\n",
    "            x = self.head(x)\n",
    "        else:\n",
    "            x = self.norm(x)\n",
    "        return x\n",
    "\n",
    "\n",
    "class NormLayer(nn.Module):\n",
    "    def forward(self, x):\n",
    "        return F.normalize(x, p=2, dim=1)\n",
    "\n",
    "\n",
    "def freezer(model, num_block):\n",
    "    def fr(m):\n",
    "        for param in m.parameters():\n",
    "            param.requires_grad = False\n",
    "\n",
    "    fr(model.patch_embed)\n",
    "    fr(model.pos_drop)\n",
    "    for i in range(num_block):\n",
    "        fr(model.blocks[i])\n",
    "\n",
    "\n",
    "def rm_head(m):\n",
    "    names = set(x[0] for x in m.named_children())\n",
    "    target = {\"head\", \"fc\", \"head_dist\"}\n",
    "    for x in names & target:\n",
    "        m.add_module(x, nn.Identity())"
   ]
  },
  {
   "cell_type": "code",
   "execution_count": 5,
   "id": "72411275",
   "metadata": {},
   "outputs": [],
   "source": [
    "class MultiSample:\n",
    "    def __init__(self, transform, n=2):\n",
    "        self.transform = transform\n",
    "        self.num = n\n",
    "\n",
    "    def __call__(self, x):\n",
    "        return tuple(self.transform(x) for _ in range(self.num))\n",
    "\n",
    "\n",
    "def evaluate(get_emb_f, ds_name, hyp_c):\n",
    "    if ds_name == \"CUB\" or ds_name == \"Cars\":\n",
    "        emb_head = get_emb_f(ds_type=\"eval\")\n",
    "        recall_head = get_recall(*emb_head, ds_name, hyp_c)\n",
    "    elif ds_name == \"SOP\":\n",
    "        emb_head = get_emb_f(ds_type=\"eval\")\n",
    "        recall_head = get_recall_sop(*emb_head, ds_name, hyp_c)\n",
    "    else:\n",
    "        emb_head_query = get_emb_f(ds_type=\"query\")\n",
    "        emb_head_gal = get_emb_f(ds_type=\"gallery\")\n",
    "        recall_head = get_recall_inshop(*emb_head_query, *emb_head_gal, hyp_c)\n",
    "    return recall_head\n",
    "\n",
    "def get_recall(x, y, ds_name, hyp_c):\n",
    "    if ds_name == \"CUB\" or ds_name == \"Cars\":\n",
    "        k_list = [1, 2, 4, 8, 16, 32]\n",
    "    elif ds_name == \"SOP\":\n",
    "        k_list = [1, 10, 100, 1000]\n",
    "\n",
    "    if hyp_c > 0:\n",
    "        dist_m = torch.empty(len(x), len(x), device=\"cuda\")\n",
    "        for i in range(len(x)):\n",
    "            dist_m[i : i + 1] = -dist_matrix_d(x[i : i + 1], x, hyp_c)\n",
    "    else:\n",
    "        dist_m = torch.empty(len(x), len(x), device=\"cuda\")\n",
    "        for i in range(len(x)):\n",
    "            dist_m[i : i + 1] = -torch.cdist(x[i : i + 1], x, p=2)\n",
    "\n",
    "    y_cur = y[dist_m.topk(1 + max(k_list), largest=True)[1][:, 1:]]\n",
    "    y = y.cpu()\n",
    "    y_cur = y_cur.float().cpu()\n",
    "    recall = [calc_recall_at_k(y, y_cur, k) for k in k_list]\n",
    "    print(recall)\n",
    "    return recall[0]\n",
    "\n",
    "\n",
    "def get_recall_sop(x, y, ds_name, hyp_c):\n",
    "    y_cur = torch.tensor([]).cuda().int()\n",
    "    number = 1000\n",
    "    k_list = [1, 10, 100, 1000]\n",
    "    if hyp_c > 0:\n",
    "        for i in range(len(x) // number + 1):\n",
    "            if (i+1)*number > len(x):\n",
    "                x_s = x[i*number:]\n",
    "            else:\n",
    "                x_s = x[i*number: (i+1)*number]\n",
    "            dist = torch.empty(len(x_s), len(x), device=\"cuda\")\n",
    "            for i in range(len(x_s)):\n",
    "                dist[i : i + 1] = -dist_matrix_d(x_s[i : i + 1], x, hyp_c)\n",
    "            dist = y[dist.topk(1 + max(k_list), largest=True)[1][:, 1:]]\n",
    "            y_cur = torch.cat([y_cur, dist])\n",
    "    else:\n",
    "        for i in range(len(x) // number + 1):\n",
    "            if (i+1)*number > len(x):\n",
    "                x_s = x[i*number:]\n",
    "            else:\n",
    "                x_s = x[i*number: (i+1)*number]\n",
    "            dist = torch.empty(len(x_s), len(x), device=\"cuda\")\n",
    "            for i in range(len(x_s)):\n",
    "                dist[i : i + 1] = -torch.cdist(x_s[i : i + 1], x, p=2)\n",
    "            dist = y[dist.topk(1 + max(k_list), largest=True)[1][:, 1:]]\n",
    "            y_cur = torch.cat([y_cur, dist])\n",
    "    y = y.cpu()\n",
    "    y_cur = y_cur.float().cpu()\n",
    "    recall = [calc_recall_at_k(y, y_cur, k) for k in k_list]\n",
    "    print(recall)\n",
    "    return recall\n",
    "\n",
    "\n",
    "def get_recall_inshop(xq, yq, xg, yg, hyp_c):\n",
    "    if hyp_c > 0:\n",
    "        dist_m = torch.empty(len(xq), len(xg), device=\"cuda\")\n",
    "        for i in range(len(xq)):\n",
    "            dist_m[i : i + 1] = -dist_matrix_d(xq[i : i + 1], xg, hyp_c)\n",
    "    else:\n",
    "        dist_m = torch.empty(len(xq), len(xg), device=\"cuda\")\n",
    "        for i in range(len(xq)):\n",
    "            dist_m[i : i + 1] = -torch.cdist(xq[i : i + 1], xg, p=2)\n",
    "\n",
    "    def recall_k(cos_sim, query_T, gallery_T, k):\n",
    "        m = len(cos_sim)\n",
    "        match_counter = 0\n",
    "        for i in range(m):\n",
    "            pos_sim = cos_sim[i][gallery_T == query_T[i]]\n",
    "            neg_sim = cos_sim[i][gallery_T != query_T[i]]\n",
    "            thresh = torch.max(pos_sim).item()\n",
    "            if torch.sum(neg_sim > thresh) < k:\n",
    "                match_counter += 1\n",
    "        return match_counter / m\n",
    "\n",
    "    recall = [recall_k(dist_m, yq, yg, k) for k in [1, 10, 20, 30, 40, 50]]\n",
    "    print(recall)\n",
    "    return recall\n",
    "\n",
    "\n",
    "def get_emb(\n",
    "    model,\n",
    "    ds,\n",
    "    path,\n",
    "    mean_std,\n",
    "    resize=224,\n",
    "    crop=224,\n",
    "    ds_type=\"eval\",\n",
    "    world_size=1,\n",
    "    skip_head=False,\n",
    "):\n",
    "    eval_tr = T.Compose(\n",
    "        [\n",
    "            T.Resize(resize, interpolation=PIL.Image.BICUBIC),\n",
    "            T.CenterCrop(crop),\n",
    "            T.ToTensor(),\n",
    "            T.Normalize(*mean_std),\n",
    "        ]\n",
    "    )\n",
    "    ds_eval = ds(path, ds_type, eval_tr)\n",
    "    if world_size == 1:\n",
    "        sampler = None\n",
    "    else:\n",
    "        sampler = torch.utils.data.distributed.DistributedSampler(ds_eval)\n",
    "    dl_eval = DataLoader(\n",
    "        dataset=ds_eval,\n",
    "        batch_size=100,\n",
    "        shuffle=False,\n",
    "        num_workers=multiprocessing.cpu_count() // world_size,\n",
    "        pin_memory=True,\n",
    "        drop_last=False,\n",
    "        sampler=sampler,\n",
    "    )\n",
    "    model.eval()\n",
    "    x, y = eval_dataset(model, dl_eval, skip_head)\n",
    "    y = y.cuda()\n",
    "    if world_size > 1:\n",
    "        all_x = [torch.zeros_like(x) for _ in range(world_size)]\n",
    "        all_y = [torch.zeros_like(y) for _ in range(world_size)]\n",
    "        torch.distributed.all_gather(all_x, x)\n",
    "        torch.distributed.all_gather(all_y, y)\n",
    "        x, y = torch.cat(all_x), torch.cat(all_y)\n",
    "    model.train()\n",
    "    return x, y\n",
    "\n",
    "\n",
    "def eval_dataset(model, dl, skip_head):\n",
    "    all_x, all_y = [], []\n",
    "    for x, y in dl:\n",
    "        with torch.no_grad():\n",
    "            x = x.cuda(non_blocking=True)\n",
    "            all_x.append(model(x, skip_head=skip_head))\n",
    "        all_y.append(y)\n",
    "    return torch.cat(all_x), torch.cat(all_y)\n"
   ]
  },
  {
   "cell_type": "markdown",
   "id": "f2e12d50",
   "metadata": {},
   "source": [
    "# 主函数"
   ]
  },
  {
   "cell_type": "code",
   "execution_count": null,
   "id": "5d9cce34",
   "metadata": {},
   "outputs": [
    {
     "name": "stderr",
     "output_type": "stream",
     "text": [
      "Failed to detect the name of this notebook, you can set it manually with the WANDB_NOTEBOOK_NAME environment variable to enable code saving.\n",
      "\u001b[34m\u001b[1mwandb\u001b[0m: Currently logged in as: \u001b[33mxuyunhao\u001b[0m. Use \u001b[1m`wandb login --relogin`\u001b[0m to force relogin\n"
     ]
    },
    {
     "data": {
      "text/html": [
       "wandb version 0.14.2 is available!  To upgrade, please run:\n",
       " $ pip install wandb --upgrade"
      ],
      "text/plain": [
       "<IPython.core.display.HTML object>"
      ]
     },
     "metadata": {},
     "output_type": "display_data"
    },
    {
     "data": {
      "text/html": [
       "Tracking run with wandb version 0.13.4"
      ],
      "text/plain": [
       "<IPython.core.display.HTML object>"
      ]
     },
     "metadata": {},
     "output_type": "display_data"
    },
    {
     "data": {
      "text/html": [
       "Run data is saved locally in <code>/data/xuyunhao/Mixed curvature/wandb/run-20230418_164956-1mzaye4e</code>"
      ],
      "text/plain": [
       "<IPython.core.display.HTML object>"
      ]
     },
     "metadata": {},
     "output_type": "display_data"
    },
    {
     "data": {
      "text/html": [
       "Syncing run <strong><a href=\"https://wandb.ai/xuyunhao/hyp_metric/runs/1mzaye4e\" target=\"_blank\">balmy-capybara-491</a></strong> to <a href=\"https://wandb.ai/xuyunhao/hyp_metric\" target=\"_blank\">Weights & Biases</a> (<a href=\"https://wandb.me/run\" target=\"_blank\">docs</a>)<br/>"
      ],
      "text/plain": [
       "<IPython.core.display.HTML object>"
      ]
     },
     "metadata": {},
     "output_type": "display_data"
    },
    {
     "name": "stderr",
     "output_type": "stream",
     "text": [
      "  0%|                                                                       | 0/500 [00:00<?, ?it/s]/data/xuyunhao/.conda/envs/pytorch/lib/python3.7/site-packages/torchvision/transforms/transforms.py:333: UserWarning: Argument interpolation should be of type InterpolationMode instead of int. Please, use InterpolationMode enum.\n",
      "  \"Argument interpolation should be of type InterpolationMode instead of int. \"\n",
      "  0%|                                                            | 1/500 [01:30<12:31:04, 90.31s/it]"
     ]
    },
    {
     "name": "stdout",
     "output_type": "stream",
     "text": [
      "[0.6818821212547475, 0.8969615979743987, 0.9291742861161908, 0.9438036292024194, 0.9542833028555352, 0.9608243072162048]\n"
     ]
    },
    {
     "name": "stderr",
     "output_type": "stream",
     "text": [
      "  2%|█▏                                                          | 10/500 [05:29<5:30:04, 40.42s/it]"
     ]
    },
    {
     "name": "stdout",
     "output_type": "stream",
     "text": [
      "[0.8465325643550429, 0.9676466450977634, 0.9791813194542129, 0.983330988887326, 0.9860036573357716, 0.9875509917006612]\n",
      "save model........\n"
     ]
    },
    {
     "name": "stderr",
     "output_type": "stream",
     "text": [
      "  4%|██▎                                                         | 19/500 [08:34<2:52:38, 21.53s/it]"
     ]
    },
    {
     "name": "stdout",
     "output_type": "stream",
     "text": [
      "[0.8697425798283865, 0.9735546490364327, 0.9820649880433253, 0.9859333239555493, 0.9884653256435504, 0.9898719932479955]\n",
      "save model........\n"
     ]
    },
    {
     "name": "stderr",
     "output_type": "stream",
     "text": [
      "  6%|███▍                                                        | 29/500 [13:07<2:53:13, 22.07s/it]"
     ]
    },
    {
     "name": "stdout",
     "output_type": "stream",
     "text": [
      "[0.8724152482768321, 0.9743283162188775, 0.983049655366437, 0.9871289914193276, 0.9891686594457729, 0.990856660571107]\n",
      "save model........\n"
     ]
    },
    {
     "name": "stderr",
     "output_type": "stream",
     "text": [
      "  8%|████▋                                                       | 39/500 [17:37<2:46:47, 21.71s/it]"
     ]
    },
    {
     "name": "stdout",
     "output_type": "stream",
     "text": [
      "[0.8864115909410606, 0.9764383176255451, 0.9843859895906597, 0.9878323252215502, 0.9900829933886622, 0.9914896609931073]\n",
      "save model........\n"
     ]
    },
    {
     "name": "stderr",
     "output_type": "stream",
     "text": [
      " 10%|██████                                                      | 50/500 [23:32<5:03:06, 40.42s/it]"
     ]
    },
    {
     "name": "stdout",
     "output_type": "stream",
     "text": [
      "[0.8833872555915038, 0.9781966521311014, 0.9853706569137712, 0.9887466591644395, 0.990293993529329, 0.9919819946546631]\n"
     ]
    },
    {
     "name": "stderr",
     "output_type": "stream",
     "text": [
      " 12%|███████                                                     | 59/500 [26:41<2:40:05, 21.78s/it]"
     ]
    },
    {
     "name": "stdout",
     "output_type": "stream",
     "text": [
      "[0.892882261921508, 0.9796033197355465, 0.9862849908566605, 0.9890279926853285, 0.9906456604304403, 0.9919819946546631]\n",
      "save model........\n"
     ]
    },
    {
     "name": "stderr",
     "output_type": "stream",
     "text": [
      " 14%|████████▎                                                   | 69/500 [31:14<2:37:18, 21.90s/it]"
     ]
    },
    {
     "name": "stdout",
     "output_type": "stream",
     "text": [
      "[0.8949922633281755, 0.9801659867773245, 0.9868476578984386, 0.9893796595864397, 0.9912083274722183, 0.9922633281755521]\n",
      "save model........\n"
     ]
    },
    {
     "name": "stderr",
     "output_type": "stream",
     "text": [
      " 16%|█████████▍                                                  | 79/500 [35:44<2:31:13, 21.55s/it]"
     ]
    },
    {
     "name": "stdout",
     "output_type": "stream",
     "text": [
      "[0.8959065972710648, 0.9793923195948797, 0.9864256576171051, 0.9893093262062175, 0.990575327050218, 0.9924039949359966]\n",
      "save model........\n"
     ]
    },
    {
     "name": "stderr",
     "output_type": "stream",
     "text": [
      " 18%|██████████▊                                                 | 90/500 [41:38<4:33:44, 40.06s/it]"
     ]
    },
    {
     "name": "stdout",
     "output_type": "stream",
     "text": [
      "[0.8942185961457307, 0.9796736531157687, 0.9866366577577719, 0.9891686594457729, 0.9909973273315515, 0.9923336615557744]\n"
     ]
    },
    {
     "name": "stderr",
     "output_type": "stream",
     "text": [
      " 20%|███████████▉                                                | 99/500 [44:51<2:28:29, 22.22s/it]"
     ]
    },
    {
     "name": "stdout",
     "output_type": "stream",
     "text": [
      "[0.8989309326206217, 0.9788296525531017, 0.9868476578984386, 0.9898719932479955, 0.9911379940919961, 0.9925446616964412]\n",
      "save model........\n"
     ]
    },
    {
     "name": "stderr",
     "output_type": "stream",
     "text": [
      " 22%|████████████▉                                              | 110/500 [50:52<4:31:28, 41.77s/it]"
     ]
    },
    {
     "name": "stdout",
     "output_type": "stream",
     "text": [
      "[0.8982979321986214, 0.9806583204388802, 0.9867773245182163, 0.990293993529329, 0.9916303277535519, 0.9920523280348854]\n"
     ]
    },
    {
     "name": "stderr",
     "output_type": "stream",
     "text": [
      " 24%|██████████████▏                                            | 120/500 [55:26<4:20:16, 41.10s/it]"
     ]
    },
    {
     "name": "stdout",
     "output_type": "stream",
     "text": [
      "[0.8943592629061753, 0.9806583204388802, 0.9867773245182163, 0.9891686594457729, 0.9906456604304403, 0.9919819946546631]\n"
     ]
    },
    {
     "name": "stderr",
     "output_type": "stream",
     "text": [
      " 26%|███████████████▏                                           | 129/500 [58:38<2:16:34, 22.09s/it]"
     ]
    },
    {
     "name": "stdout",
     "output_type": "stream",
     "text": [
      "[0.899563933042622, 0.9807989871993248, 0.9871289914193276, 0.9895203263468842, 0.9911379940919961, 0.9923336615557744]\n",
      "save model........\n"
     ]
    },
    {
     "name": "stderr",
     "output_type": "stream",
     "text": [
      " 28%|███████████████▊                                         | 139/500 [1:03:10<2:14:24, 22.34s/it]"
     ]
    },
    {
     "name": "stdout",
     "output_type": "stream",
     "text": [
      "[0.903432268954846, 0.9811506541004361, 0.9875509917006612, 0.9906456604304403, 0.9920523280348854, 0.9929666619777746]\n",
      "save model........\n"
     ]
    },
    {
     "name": "stderr",
     "output_type": "stream",
     "text": [
      " 30%|█████████████████                                        | 150/500 [1:09:04<3:56:29, 40.54s/it]"
     ]
    },
    {
     "name": "stdout",
     "output_type": "stream",
     "text": [
      "[0.9026586017724012, 0.9825573217048811, 0.9872696581797721, 0.9903643269095512, 0.9918413278942186, 0.9929666619777746]\n"
     ]
    },
    {
     "name": "stderr",
     "output_type": "stream",
     "text": [
      " 32%|██████████████████▏                                      | 160/500 [1:13:39<3:56:15, 41.69s/it]"
     ]
    },
    {
     "name": "stdout",
     "output_type": "stream",
     "text": [
      "[0.9008299338866226, 0.9807286538191026, 0.9877619918413278, 0.9906456604304403, 0.9919819946546631, 0.9924743283162188]\n"
     ]
    },
    {
     "name": "stderr",
     "output_type": "stream",
     "text": [
      " 34%|███████████████████▍                                     | 170/500 [1:18:09<3:40:08, 40.03s/it]"
     ]
    },
    {
     "name": "stdout",
     "output_type": "stream",
     "text": [
      "[0.9021662681108454, 0.9817133211422141, 0.9872696581797721, 0.9902236601491068, 0.9911379940919961, 0.9923336615557744]\n"
     ]
    },
    {
     "name": "stderr",
     "output_type": "stream",
     "text": [
      " 36%|████████████████████▍                                    | 179/500 [1:21:22<1:58:20, 22.12s/it]"
     ]
    },
    {
     "name": "stdout",
     "output_type": "stream",
     "text": [
      "[0.9061049374032916, 0.9816429877619919, 0.9876213250808834, 0.990575327050218, 0.9924743283162188, 0.9934589956393304]\n",
      "save model........\n"
     ]
    },
    {
     "name": "stderr",
     "output_type": "stream",
     "text": [
      " 38%|█████████████████████▌                                   | 189/500 [1:25:53<1:53:44, 21.94s/it]"
     ]
    },
    {
     "name": "stdout",
     "output_type": "stream",
     "text": [
      "[0.9076522717681812, 0.9825573217048811, 0.9879729919819946, 0.9906456604304403, 0.9919819946546631, 0.9928963285975524]\n",
      "save model........\n"
     ]
    },
    {
     "name": "stderr",
     "output_type": "stream",
     "text": [
      " 40%|██████████████████████▋                                  | 199/500 [1:30:24<1:51:46, 22.28s/it]"
     ]
    },
    {
     "name": "stdout",
     "output_type": "stream",
     "text": [
      "[0.9083556055704037, 0.9827683218455479, 0.9883949922633282, 0.9912786608524405, 0.9924743283162188, 0.9933886622591082]\n",
      "save model........\n"
     ]
    },
    {
     "name": "stderr",
     "output_type": "stream",
     "text": [
      " 42%|███████████████████████▊                                 | 209/500 [1:35:01<1:49:11, 22.51s/it]wandb: Network error (ReadTimeout), entering retry loop.\n",
      " 42%|███████████████████████▉                                 | 210/500 [1:36:24<3:17:11, 40.80s/it]"
     ]
    },
    {
     "name": "stdout",
     "output_type": "stream",
     "text": [
      "[0.9075116050077366, 0.9828386552257702, 0.9887466591644395, 0.9910676607117738, 0.9924743283162188, 0.9933183288788859]\n"
     ]
    },
    {
     "name": "stderr",
     "output_type": "stream",
     "text": [
      " 44%|████████████████████████▉                                | 219/500 [1:39:38<1:46:41, 22.78s/it]"
     ]
    },
    {
     "name": "stdout",
     "output_type": "stream",
     "text": [
      "[0.9091996061330707, 0.9829793219862146, 0.9888169925446617, 0.990293993529329, 0.9912786608524405, 0.9921929947953299]\n",
      "save model........\n"
     ]
    },
    {
     "name": "stderr",
     "output_type": "stream",
     "text": [
      " 46%|██████████████████████████▏                              | 230/500 [1:45:34<3:05:04, 41.13s/it]"
     ]
    },
    {
     "name": "stdout",
     "output_type": "stream",
     "text": [
      "[0.9076522717681812, 0.983049655366437, 0.9881136587424392, 0.9904346602897736, 0.9916303277535519, 0.9927556618371078]\n"
     ]
    },
    {
     "name": "stderr",
     "output_type": "stream",
     "text": [
      " 48%|███████████████████████████▏                             | 239/500 [1:48:41<1:34:14, 21.66s/it]"
     ]
    },
    {
     "name": "stdout",
     "output_type": "stream",
     "text": [
      "[0.9101842734561824, 0.9834013222675482, 0.988043325362217, 0.9900829933886622, 0.9918413278942186, 0.9928259952173302]\n",
      "save model........\n"
     ]
    },
    {
     "name": "stderr",
     "output_type": "stream",
     "text": [
      " 50%|████████████████████████████▌                            | 250/500 [1:54:44<2:57:15, 42.54s/it]"
     ]
    },
    {
     "name": "stdout",
     "output_type": "stream",
     "text": [
      "[0.908144605429737, 0.9824166549444366, 0.9871993247995499, 0.9898719932479955, 0.9914896609931073, 0.9921929947953299]\n"
     ]
    },
    {
     "name": "stderr",
     "output_type": "stream",
     "text": [
      " 52%|█████████████████████████████▌                           | 259/500 [1:57:51<1:30:15, 22.47s/it]"
     ]
    },
    {
     "name": "stdout",
     "output_type": "stream",
     "text": [
      "[0.9103249402166268, 0.9828386552257702, 0.9891686594457729, 0.9914896609931073, 0.9924743283162188, 0.9931776621184414]\n",
      "save model........\n"
     ]
    },
    {
     "name": "stderr",
     "output_type": "stream",
     "text": [
      " 54%|██████████████████████████████▋                          | 269/500 [2:02:26<1:26:14, 22.40s/it]"
     ]
    },
    {
     "name": "stdout",
     "output_type": "stream",
     "text": [
      "[0.9127162751441834, 0.9817836545224363, 0.988043325362217, 0.9904346602897736, 0.9922633281755521, 0.9935996623997749]\n",
      "save model........\n"
     ]
    },
    {
     "name": "stderr",
     "output_type": "stream",
     "text": [
      " 56%|███████████████████████████████▉                         | 280/500 [2:08:29<2:29:57, 40.90s/it]"
     ]
    },
    {
     "name": "stdout",
     "output_type": "stream",
     "text": [
      "[0.9087776058517373, 0.9820649880433253, 0.9874103249402166, 0.9898016598677732, 0.9917709945139963, 0.9931776621184414]\n"
     ]
    },
    {
     "name": "stderr",
     "output_type": "stream",
     "text": [
      " 58%|█████████████████████████████████                        | 290/500 [2:13:06<2:25:58, 41.71s/it]"
     ]
    },
    {
     "name": "stdout",
     "output_type": "stream",
     "text": [
      "[0.9112392741595161, 0.983612322408215, 0.9883246588831059, 0.9905049936699958, 0.9913489942326629, 0.9926149950766634]\n"
     ]
    },
    {
     "name": "stderr",
     "output_type": "stream",
     "text": [
      " 60%|██████████████████████████████████                       | 299/500 [2:16:20<1:16:12, 22.75s/it]"
     ]
    },
    {
     "name": "stdout",
     "output_type": "stream",
     "text": [
      "[0.9135602757068505, 0.9832606555071036, 0.9886763257842172, 0.9912786608524405, 0.9922633281755521, 0.9931073287382192]\n",
      "save model........\n"
     ]
    },
    {
     "name": "stderr",
     "output_type": "stream",
     "text": [
      " 62%|███████████████████████████████████▎                     | 310/500 [2:22:21<2:10:50, 41.32s/it]"
     ]
    },
    {
     "name": "stdout",
     "output_type": "stream",
     "text": [
      "[0.9110986073990716, 0.9831903221268814, 0.9883949922633282, 0.9911379940919961, 0.9922633281755521, 0.9932479954986637]\n"
     ]
    },
    {
     "name": "stderr",
     "output_type": "stream",
     "text": [
      " 64%|████████████████████████████████████▍                    | 320/500 [2:26:56<2:01:42, 40.57s/it]"
     ]
    },
    {
     "name": "stdout",
     "output_type": "stream",
     "text": [
      "[0.9122239414826276, 0.9841749894499929, 0.9892389928259953, 0.9911379940919961, 0.9925446616964412, 0.9933886622591082]\n"
     ]
    },
    {
     "name": "stderr",
     "output_type": "stream",
     "text": [
      " 66%|█████████████████████████████████████▌                   | 329/500 [2:30:12<1:05:28, 22.98s/it]"
     ]
    },
    {
     "name": "stdout",
     "output_type": "stream",
     "text": [
      "[0.9138416092277395, 0.9834013222675482, 0.9892389928259953, 0.9913489942326629, 0.9925446616964412, 0.9931073287382192]\n",
      "save model........\n"
     ]
    },
    {
     "name": "stderr",
     "output_type": "stream",
     "text": [
      " 68%|██████████████████████████████████████▊                  | 340/500 [2:36:16<1:49:33, 41.08s/it]"
     ]
    },
    {
     "name": "stdout",
     "output_type": "stream",
     "text": [
      "[0.9113799409199607, 0.9829793219862146, 0.9886059924039949, 0.990575327050218, 0.9921929947953299, 0.9928963285975524]\n"
     ]
    },
    {
     "name": "stderr",
     "output_type": "stream",
     "text": [
      " 70%|███████████████████████████████████████▉                 | 350/500 [2:40:51<1:41:35, 40.64s/it]"
     ]
    },
    {
     "name": "stdout",
     "output_type": "stream",
     "text": [
      "[0.910395273596849, 0.9828386552257702, 0.9888169925446617, 0.9915599943733295, 0.9928259952173302, 0.9937403291602195]\n"
     ]
    },
    {
     "name": "stderr",
     "output_type": "stream",
     "text": [
      " 72%|██████████████████████████████████████████▏                | 358/500 [2:43:40<52:53, 22.35s/it]wandb: Network error (ReadTimeout), entering retry loop.\n",
      " 72%|█████████████████████████████████████████                | 360/500 [2:45:31<1:38:35, 42.25s/it]"
     ]
    },
    {
     "name": "stdout",
     "output_type": "stream",
     "text": [
      "[0.9135602757068505, 0.9838936559291039, 0.9890279926853285, 0.9912083274722183, 0.9921226614151076, 0.9931073287382192]\n"
     ]
    },
    {
     "name": "stderr",
     "output_type": "stream",
     "text": [
      " 74%|██████████████████████████████████████████▏              | 370/500 [2:50:05<1:28:39, 40.92s/it]"
     ]
    },
    {
     "name": "stdout",
     "output_type": "stream",
     "text": [
      "[0.9099029399352933, 0.9825573217048811, 0.9882543255028837, 0.9909269939513293, 0.9923336615557744, 0.9931776621184414]\n"
     ]
    }
   ],
   "source": [
    "os.environ[\"CUDA_VISIBLE_DEVICES\"] =  \"3,4\"\n",
    "\n",
    "\n",
    "if local_rank == 0:\n",
    "    wandb.init(project=\"hyp_metric\")\n",
    "\n",
    "world_size = int(os.environ.get(\"WORLD_SIZE\", 1))\n",
    "    \n",
    "if model.startswith(\"vit\"):\n",
    "    mean_std = (0.5, 0.5, 0.5), (0.5, 0.5, 0.5)\n",
    "else:\n",
    "    mean_std = (0.485, 0.456, 0.406), (0.229, 0.224, 0.225)\n",
    "train_tr = T.Compose(\n",
    "    [\n",
    "        T.RandomResizedCrop(\n",
    "            crop, scale=(0.2, 1.0), interpolation=InterpolationMode.BICUBIC\n",
    "        ),\n",
    "        T.RandomHorizontalFlip(),\n",
    "        T.ToTensor(),\n",
    "        T.Normalize(*mean_std),\n",
    "    ]\n",
    ")\n",
    "\n",
    "ds_list = {\"CUB\": CUBirds, \"SOP\": SOP, \"Cars\": Cars, \"Inshop\": Inshop_Dataset}\n",
    "ds_class = ds_list[ds]\n",
    "ds_train = ds_class(path, \"train\", train_tr)\n",
    "assert len(ds_train.ys) * num_samples >= bs * world_size\n",
    "sampler = UniqueClassSempler(\n",
    "    ds_train.ys, num_samples, local_rank, world_size\n",
    ")\n",
    "dl_train = DataLoader(\n",
    "    dataset=ds_train,\n",
    "    sampler=sampler,\n",
    "    batch_size=bs,\n",
    "    num_workers=8,\n",
    "    pin_memory=True,\n",
    "    drop_last=True,\n",
    ")\n",
    "\n",
    "model = init_model(model = model, hyp_c = hyp_c, emb = emb, clip_r = clip_r, freeze = freeze)\n",
    "optimizer = optim.AdamW(model.parameters(), lr=lr)\n",
    "model = nn.DataParallel(model)\n",
    "\n",
    "loss_f = partial(contrastive_loss, tau = t)\n",
    "get_emb_f = partial(\n",
    "    get_emb,\n",
    "    model=model,\n",
    "    ds=ds_class,\n",
    "    path=path,\n",
    "    mean_std=mean_std,\n",
    "    world_size=world_size,\n",
    "    resize=resize,\n",
    "    crop=crop,\n",
    ")\n",
    "eval_ep = eval(eval_ep.replace(\"r\", \"list(range\").replace(\")\", \"))\"))    \n",
    "\n",
    "cudnn.benchmark = True\n",
    "all_rh = []\n",
    "best_rh = []\n",
    "best_ep = 0\n",
    "lower_cnt = 0\n",
    "\n",
    "for ep in trange(epoch):\n",
    "    sampler.set_epoch(ep)\n",
    "    stats_ep = []\n",
    "    for x, y in dl_train:\n",
    "        y = y.view(len(y) // num_samples, num_samples)\n",
    "        assert (y[:, 0] == y[:, -1]).all()\n",
    "        s = y[:, 0].tolist()\n",
    "        assert len(set(s)) == len(s)\n",
    "\n",
    "        x = x.cuda(non_blocking=True)\n",
    "        z = model(x)\n",
    "        z=z.view(len(x) // num_samples, num_samples, emb)\n",
    "        if world_size > 1:\n",
    "            with torch.no_grad():\n",
    "                all_z = [torch.zeros_like(z) for _ in range(world_size)]\n",
    "                torch.distributed.all_gather(all_z, z)\n",
    "            all_z[local_rank] = z\n",
    "            z = torch.cat(all_z)\n",
    "        loss = 0\n",
    "        for i in range(num_samples):\n",
    "            for j in range(num_samples):\n",
    "                if i != j:\n",
    "                    l, s = loss_f(z[:, i], z[:, j])\n",
    "                    loss += l\n",
    "                    stats_ep.append({**s, \"loss\": l.item()})\n",
    "\n",
    "        optimizer.zero_grad()\n",
    "        loss.backward()\n",
    "        torch.nn.utils.clip_grad_norm_(amp.master_params(optimizer), 3)\n",
    "        optimizer.step()\n",
    "        \n",
    "#     if (ep + 1) in eval_ep:\n",
    "#         rh= evaluate(get_emb_f, ds, hyp_c)\n",
    "    \n",
    "    if (ep+1) % 10 == 0 or ep == 0:\n",
    "        rh = evaluate(get_emb_f, ds, hyp_c)\n",
    "        all_rh.append(rh)\n",
    "        if ep == 0:\n",
    "            best_rh = rh\n",
    "        else:\n",
    "            if isinstance(rh, list):\n",
    "                if rh[0] >= best_rh[0]:\n",
    "                    lower_cnt = 0\n",
    "                    best_rh = rh\n",
    "                    best_ep = ep\n",
    "                    print(\"save model........\")\n",
    "                    torch.save(model.state_dict(), save_path)\n",
    "                else:\n",
    "                    lower_cnt += 1\n",
    "            else:\n",
    "                if rh >= best_rh:\n",
    "                    lower_cnt = 0\n",
    "                    best_rh = rh\n",
    "                    best_ep = ep\n",
    "                    print(\"save model........\")\n",
    "                    torch.save(model.state_dict(), save_path)\n",
    "                else:\n",
    "                    lower_cnt += 1\n",
    "    \n",
    "    if lower_cnt >= 10:\n",
    "        break\n",
    "\n",
    "    #if local_rank == 0:\n",
    "        #stats_ep = {k: np.mean([x[k] for x in stats_ep]) for k in stats_ep[0]}\n",
    "        #if (epoch + 1) in eval_ep:\n",
    "        #    stats_ep = {\"recall\": rh, **stats_ep}\n",
    "        #wandb.log({**stats_ep, \"ep\": ep})\n",
    "\n",
    "print(\"best:\", best_ep+1, best_rh)\n",
    "print(\"save_path:\", save_path)\n",
    "print(\"load_model:\", load_model)\n",
    "        \n",
    "if save_emb:\n",
    "    ds_type = \"gallery\" if ds == \"Inshop\" else \"eval\"\n",
    "    x, y = get_emb_f(ds_type=ds_type)\n",
    "    x, y = x.float().cpu(), y.long().cpu()\n",
    "    torch.save((x, y), path + \"/\" + emb_name + \"_eval.pt\")\n",
    "\n",
    "    x, y = get_emb_f(ds_type=\"train\")\n",
    "    x, y = x.float().cpu(), y.long().cpu()\n",
    "    torch.save((x, y), path + \"/\" + emb_name + \"_train.pt\")"
   ]
  }
 ],
 "metadata": {
  "kernelspec": {
   "display_name": "Python 3 (ipykernel)",
   "language": "python",
   "name": "python3"
  },
  "language_info": {
   "codemirror_mode": {
    "name": "ipython",
    "version": 3
   },
   "file_extension": ".py",
   "mimetype": "text/x-python",
   "name": "python",
   "nbconvert_exporter": "python",
   "pygments_lexer": "ipython3",
   "version": "3.7.11"
  }
 },
 "nbformat": 4,
 "nbformat_minor": 5
}
